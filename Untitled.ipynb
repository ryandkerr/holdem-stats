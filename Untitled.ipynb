{
 "cells": [
  {
   "cell_type": "code",
   "execution_count": 104,
   "metadata": {
    "collapsed": false,
    "scrolled": false
   },
   "outputs": [
    {
     "name": "stdout",
     "output_type": "stream",
     "text": [
      "['2c', '12h', '13c', '6d', '11c', '10c', '9h', '5s', '6c', '11d', '8h', '14c', '9s', '13h', '9d', '5c', '4s', '13s', '10s', '8s', '14h', '14s', '3c', '3s', '8d', '7h', '9c', '7c', '8c', '4d', '4c', '6s', '2d', '3h', '11h', '5h', '2s', '7d', '14d', '7s', '2h', '13d', '12d', '5d', '3d', '11s', '10h', '4h', '12s', '12c', '6h', '10d']\n"
     ]
    }
   ],
   "source": [
    "# holdem.py\n",
    "# Ryan Kerr\n",
    "# interface to interact with texas holdem game\n",
    "\n",
    "from random import shuffle\n",
    "\n",
    "class card(object):\n",
    "    \"\"\"a card\"\"\"\n",
    "    def __init__(self, val, suit):\n",
    "        self.val = val\n",
    "        self.suit = suit\n",
    "        self.pretty = str(self.val) + self.suit\n",
    "   \n",
    "vals = range(2,15)\n",
    "suits = [\"s\", \"c\", \"h\", \"d\"]\n",
    "\n",
    "class deck(object):\n",
    "    \"\"\"a deck\"\"\"\n",
    "    def __init__(self):\n",
    "        self.all_cards = []\n",
    "        for val in vals:\n",
    "            for suit in suits:\n",
    "                c = card(val, suit)\n",
    "                self.all_cards.append(c)\n",
    "        self.active = list(self.all_cards)\n",
    "        shuffle(self.active)\n",
    "                \n",
    "    def pretty(self):\n",
    "        print [c.pretty for c in self.active]\n",
    "    \n",
    "    def shuffle(self):\n",
    "        shuffle(self.active)\n",
    "\n",
    "    def deal_card(self):\n",
    "        c = self.active[0]\n",
    "        self.active.pop(0)\n",
    "        return c\n",
    "\n",
    "    def deal_x(self, x):\n",
    "        out = []\n",
    "        for i in range(x):\n",
    "            c = self.deal_card()\n",
    "            out.append(c)\n",
    "        return out\n",
    "    \n",
    "    def reset(self):\n",
    "        self.active = list(self.all_cards)\n",
    "        shuffle(self.active)\n",
    "\n",
    "d1 = deck()\n",
    "print [c.pretty for c in d1.active]"
   ]
  },
  {
   "cell_type": "code",
   "execution_count": 107,
   "metadata": {
    "collapsed": false
   },
   "outputs": [
    {
     "name": "stdout",
     "output_type": "stream",
     "text": [
      "['9h', '5s', '6c']\n"
     ]
    }
   ],
   "source": [
    "print [c.pretty for c in d1.deal_x(3)]"
   ]
  }
 ],
 "metadata": {
  "kernelspec": {
   "display_name": "Python 2",
   "language": "python",
   "name": "python2"
  },
  "language_info": {
   "codemirror_mode": {
    "name": "ipython",
    "version": 2
   },
   "file_extension": ".py",
   "mimetype": "text/x-python",
   "name": "python",
   "nbconvert_exporter": "python",
   "pygments_lexer": "ipython2",
   "version": "2.7.8"
  }
 },
 "nbformat": 4,
 "nbformat_minor": 0
}
