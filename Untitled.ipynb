{
 "cells": [
  {
   "cell_type": "code",
   "execution_count": 18,
   "metadata": {
    "collapsed": false
   },
   "outputs": [
    {
     "name": "stdout",
     "output_type": "stream",
     "text": [
      "['11d', '5c', '8c', '10c', '3s', '14s', '2d', '7d', '14h', '6s', '4h', '12h', '11c', '6c', '12c', '12s', '10s', '5h', '4d', '4s', '13c', '11h', '2s', '11s', '14c', '5s', '3d', '13s', '7c', '5d', '12d', '6h', '3c', '2h', '10d', '8d', '7h', '9c', '8h', '10h', '3h', '14d', '13d', '9h', '2c', '13h', '8s', '7s', '6d', '9s', '9d', '4c']\n"
     ]
    }
   ],
   "source": [
    "# holdem.py\n",
    "# Ryan Kerr\n",
    "# interface to interact with texas holdem game\n",
    "\n",
    "from random import shuffle\n",
    "\n",
    "class card(object):\n",
    "    \"\"\"a card\"\"\"\n",
    "    def __init__(self, val, suit):\n",
    "        self.val = val\n",
    "        self.suit = suit\n",
    "        self.pretty = str(self.val) + self.suit\n",
    "   \n",
    "vals = range(2,15)\n",
    "suits = [\"s\", \"c\", \"h\", \"d\"]\n",
    "\n",
    "class deck(object):\n",
    "    \"\"\"a deck\"\"\"\n",
    "    def __init__(self):\n",
    "        self.all_cards = []\n",
    "        for val in vals:\n",
    "            for suit in suits:\n",
    "                c = card(val, suit)\n",
    "                self.all_cards.append(c)\n",
    "        self.active = list(self.all_cards)\n",
    "        shuffle(self.active)\n",
    "                \n",
    "    def pretty(self):\n",
    "        print [c.pretty for c in self.active]\n",
    "    \n",
    "    def shuffle(self):\n",
    "        shuffle(self.active)\n",
    "\n",
    "    def deal_card(self):\n",
    "        c = self.active[0]\n",
    "        self.active.pop(0)\n",
    "        return c\n",
    "\n",
    "    def deal_x(self, x):\n",
    "        out = []\n",
    "        for i in range(x):\n",
    "            c = self.deal_card()\n",
    "            out.append(c)\n",
    "        return out\n",
    "\n",
    "    def take_card(self, val, suit):\n",
    "        for i, c in enumerate(self.active):\n",
    "            if (c.val == val) & (c.suit == suit):\n",
    "                self.active.pop(i)\n",
    "                break\n",
    "        c = card(val, suit)\n",
    "        return c\n",
    "\n",
    "    def reset(self):\n",
    "        self.active = list(self.all_cards)\n",
    "        shuffle(self.active)\n",
    "\n",
    "d1 = deck()\n",
    "print [c.pretty for c in d1.active]"
   ]
  },
  {
   "cell_type": "code",
   "execution_count": 19,
   "metadata": {
    "collapsed": false
   },
   "outputs": [
    {
     "name": "stdout",
     "output_type": "stream",
     "text": [
      "['11d', '5c', '8c', '10c', '3s', '14s', '2d', '7d', '14h', '6s', '4h', '12h', '11c', '6c', '12c', '12s', '10s', '5h', '4d', '4s', '13c', '11h', '2s', '11s', '14c', '5s', '3d', '13s', '7c', '12d', '6h', '3c', '2h', '10d', '8d', '7h', '9c', '8h', '10h', '3h', '14d', '13d', '9h', '2c', '13h', '8s', '7s', '6d', '9s', '9d', '4c']\n"
     ]
    }
   ],
   "source": [
    "d1.take_card(5,\"d\").pretty\n",
    "print [c.pretty for c in d1.active]"
   ]
  },
  {
   "cell_type": "code",
   "execution_count": 16,
   "metadata": {
    "collapsed": false
   },
   "outputs": [
    {
     "name": "stdout",
     "output_type": "stream",
     "text": [
      "['10d', '5h', '4c']\n"
     ]
    }
   ],
   "source": [
    "print [c.pretty for c in d1.deal_x(3)]"
   ]
  }
 ],
 "metadata": {
  "kernelspec": {
   "display_name": "Python 2",
   "language": "python",
   "name": "python2"
  },
  "language_info": {
   "codemirror_mode": {
    "name": "ipython",
    "version": 2
   },
   "file_extension": ".py",
   "mimetype": "text/x-python",
   "name": "python",
   "nbconvert_exporter": "python",
   "pygments_lexer": "ipython2",
   "version": "2.7.8"
  }
 },
 "nbformat": 4,
 "nbformat_minor": 0
}
