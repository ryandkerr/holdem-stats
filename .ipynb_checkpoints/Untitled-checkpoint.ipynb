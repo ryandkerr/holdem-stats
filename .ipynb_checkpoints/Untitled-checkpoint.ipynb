{
 "cells": [
  {
   "cell_type": "code",
   "execution_count": 85,
   "metadata": {
    "collapsed": false,
    "scrolled": false
   },
   "outputs": [
    {
     "name": "stdout",
     "output_type": "stream",
     "text": [
      "['5c', '12c', '9s', '11s', '3d', '3h', '3s', '6s', '12s', '2h', '14h', '9c', '10d', '8s', '8c', '10c', '3c', '5s', '11h', '7c', '8d', '6d', '6c', '10h', '4s', '2s', '9d', '11d', '7s', '5h', '11c', '14d', '5d', '13s', '12d', '7d', '14s', '13c', '12h', '6h', '9h', '4c', '14c', '8h', '4d', '7h', '10s', '2d', '13h', '13d', '4h', '2c']\n"
     ]
    },
    {
     "ename": "TypeError",
     "evalue": "pop() takes at most 1 argument (2 given)",
     "output_type": "error",
     "traceback": [
      "\u001b[1;31m---------------------------------------------------------------------------\u001b[0m",
      "\u001b[1;31mTypeError\u001b[0m                                 Traceback (most recent call last)",
      "\u001b[1;32m<ipython-input-85-c98e94333c9c>\u001b[0m in \u001b[0;36m<module>\u001b[1;34m()\u001b[0m\n\u001b[0;32m     40\u001b[0m \u001b[0md1\u001b[0m \u001b[1;33m=\u001b[0m \u001b[0mdeck\u001b[0m\u001b[1;33m(\u001b[0m\u001b[1;33m)\u001b[0m\u001b[1;33m\u001b[0m\u001b[0m\n\u001b[0;32m     41\u001b[0m \u001b[1;32mprint\u001b[0m \u001b[1;33m[\u001b[0m\u001b[0mc\u001b[0m\u001b[1;33m.\u001b[0m\u001b[0mpretty\u001b[0m \u001b[1;32mfor\u001b[0m \u001b[0mc\u001b[0m \u001b[1;32min\u001b[0m \u001b[0md1\u001b[0m\u001b[1;33m.\u001b[0m\u001b[0mactive\u001b[0m\u001b[1;33m]\u001b[0m\u001b[1;33m\u001b[0m\u001b[0m\n\u001b[1;32m---> 42\u001b[1;33m \u001b[0md1\u001b[0m\u001b[1;33m.\u001b[0m\u001b[0mdeal_card\u001b[0m\u001b[1;33m(\u001b[0m\u001b[1;33m)\u001b[0m\u001b[1;33m\u001b[0m\u001b[0m\n\u001b[0m\u001b[0;32m     43\u001b[0m \u001b[1;32mprint\u001b[0m \u001b[1;33m[\u001b[0m\u001b[0mc\u001b[0m\u001b[1;33m.\u001b[0m\u001b[0mpretty\u001b[0m \u001b[1;32mfor\u001b[0m \u001b[0mc\u001b[0m \u001b[1;32min\u001b[0m \u001b[0md1\u001b[0m\u001b[1;33m.\u001b[0m\u001b[0mactive\u001b[0m\u001b[1;33m]\u001b[0m\u001b[1;33m\u001b[0m\u001b[0m\n",
      "\u001b[1;32m<ipython-input-85-c98e94333c9c>\u001b[0m in \u001b[0;36mdeal_card\u001b[1;34m(self)\u001b[0m\n\u001b[0;32m     31\u001b[0m     \u001b[1;32mdef\u001b[0m \u001b[0mdeal_card\u001b[0m\u001b[1;33m(\u001b[0m\u001b[0mself\u001b[0m\u001b[1;33m)\u001b[0m\u001b[1;33m:\u001b[0m\u001b[1;33m\u001b[0m\u001b[0m\n\u001b[0;32m     32\u001b[0m         \u001b[0mc\u001b[0m \u001b[1;33m=\u001b[0m \u001b[0mself\u001b[0m\u001b[1;33m.\u001b[0m\u001b[0mactive\u001b[0m\u001b[1;33m[\u001b[0m\u001b[1;36m0\u001b[0m\u001b[1;33m]\u001b[0m\u001b[1;33m\u001b[0m\u001b[0m\n\u001b[1;32m---> 33\u001b[1;33m         \u001b[0mself\u001b[0m\u001b[1;33m.\u001b[0m\u001b[0mactive\u001b[0m\u001b[1;33m.\u001b[0m\u001b[0mpop\u001b[0m\u001b[1;33m(\u001b[0m\u001b[1;36m0\u001b[0m\u001b[1;33m,\u001b[0m\u001b[1;36m1\u001b[0m\u001b[1;33m)\u001b[0m\u001b[1;33m\u001b[0m\u001b[0m\n\u001b[0m\u001b[0;32m     34\u001b[0m         \u001b[1;32mreturn\u001b[0m \u001b[0mc\u001b[0m\u001b[1;33m\u001b[0m\u001b[0m\n\u001b[0;32m     35\u001b[0m \u001b[1;33m\u001b[0m\u001b[0m\n",
      "\u001b[1;31mTypeError\u001b[0m: pop() takes at most 1 argument (2 given)"
     ]
    }
   ],
   "source": [
    "# holdem.py\n",
    "# Ryan Kerr\n",
    "# interface to interact with texas holdem game\n",
    "\n",
    "from random import shuffle\n",
    "\n",
    "class card(object):\n",
    "    \"\"\"a card\"\"\"\n",
    "    def __init__(self, val, suit):\n",
    "        self.val = val\n",
    "        self.suit = suit\n",
    "        self.pretty = str(self.val) + self.suit\n",
    "   \n",
    "vals = range(2,15)\n",
    "suits = [\"s\", \"c\", \"h\", \"d\"]\n",
    "\n",
    "class deck(object):\n",
    "    \"\"\"a deck\"\"\"\n",
    "    def __init__(self):\n",
    "        self.all_cards = []\n",
    "        for val in vals:\n",
    "            for suit in suits:\n",
    "                c = card(val, suit)\n",
    "                self.all_cards.append(c)\n",
    "        self.active = list(self.all_cards)\n",
    "        shuffle(self.active)\n",
    "                \n",
    "    def shuffle(self):\n",
    "        shuffle(self.active)\n",
    "\n",
    "    def deal_card(self):\n",
    "        c = self.active[0]\n",
    "        self.active.pop(0)\n",
    "        return c\n",
    "\n",
    "    def deal_x(self, x):\n",
    "        out = []\n",
    "        for i in range(x):\n",
    "            c = self.deal_card()\n",
    "            out.append(c)\n",
    "        return out\n",
    "    \n",
    "    def reset(self):\n",
    "        self.active = list(self.all_cards)\n",
    "        shuffle(self.active)\n",
    "\n",
    "d1 = deck()\n",
    "print [c.pretty for c in d1.active]\n",
    "d1.deal_card()\n",
    "print [c.pretty for c in d1.active]"
   ]
  },
  {
   "cell_type": "code",
   "execution_count": 87,
   "metadata": {
    "collapsed": false
   },
   "outputs": [
    {
     "data": {
      "text/plain": [
       "[0]"
      ]
     },
     "execution_count": 87,
     "metadata": {},
     "output_type": "execute_result"
    }
   ],
   "source": [
    "range(1)"
   ]
  }
 ],
 "metadata": {
  "kernelspec": {
   "display_name": "Python 2",
   "language": "python",
   "name": "python2"
  },
  "language_info": {
   "codemirror_mode": {
    "name": "ipython",
    "version": 2
   },
   "file_extension": ".py",
   "mimetype": "text/x-python",
   "name": "python",
   "nbconvert_exporter": "python",
   "pygments_lexer": "ipython2",
   "version": "2.7.8"
  }
 },
 "nbformat": 4,
 "nbformat_minor": 0
}
